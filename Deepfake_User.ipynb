{
 "cells": [
  {
   "cell_type": "code",
   "execution_count": 1,
   "metadata": {
    "colab": {
     "base_uri": "https://localhost:8080/"
    },
    "executionInfo": {
     "elapsed": 2843,
     "status": "ok",
     "timestamp": 1756842261114,
     "user": {
      "displayName": "Sunayana P Singh",
      "userId": "09211292319710131157"
     },
     "user_tz": -330
    },
    "id": "V_rTzyV_86lO",
    "outputId": "11b38495-c4c3-414e-929e-433c3c186e31"
   },
   "outputs": [
    {
     "ename": "ModuleNotFoundError",
     "evalue": "No module named 'google.colab'",
     "output_type": "error",
     "traceback": [
      "\u001b[31m---------------------------------------------------------------------------\u001b[39m",
      "\u001b[31mModuleNotFoundError\u001b[39m                       Traceback (most recent call last)",
      "\u001b[36mCell\u001b[39m\u001b[36m \u001b[39m\u001b[32mIn[1]\u001b[39m\u001b[32m, line 1\u001b[39m\n\u001b[32m----> \u001b[39m\u001b[32m1\u001b[39m \u001b[38;5;28;01mfrom\u001b[39;00m\u001b[38;5;250m \u001b[39m\u001b[34;01mgoogle\u001b[39;00m\u001b[34;01m.\u001b[39;00m\u001b[34;01mcolab\u001b[39;00m\u001b[38;5;250m \u001b[39m\u001b[38;5;28;01mimport\u001b[39;00m drive\n\u001b[32m      2\u001b[39m drive.mount(\u001b[33m'\u001b[39m\u001b[33m/content/drive\u001b[39m\u001b[33m'\u001b[39m, force_remount=\u001b[38;5;28;01mTrue\u001b[39;00m)\n\u001b[32m      4\u001b[39m get_ipython().system(\u001b[33m'\u001b[39m\u001b[33mls /content/drive/MyDrive/Deepfake-GitHub\u001b[39m\u001b[33m'\u001b[39m)\n",
      "\u001b[31mModuleNotFoundError\u001b[39m: No module named 'google.colab'"
     ]
    }
   ],
   "source": [
    "from google.colab import drive\n",
    "drive.mount('/content/drive', force_remount=True)\n",
    "\n",
    "!ls /content/drive/MyDrive/Deepfake-GitHub\n"
   ]
  },
  {
   "cell_type": "markdown",
   "metadata": {},
   "source": []
  },
  {
   "cell_type": "code",
   "execution_count": 2,
   "metadata": {
    "colab": {
     "base_uri": "https://localhost:8080/"
    },
    "executionInfo": {
     "elapsed": 10,
     "status": "ok",
     "timestamp": 1756841944232,
     "user": {
      "displayName": "Sunayana P Singh",
      "userId": "09211292319710131157"
     },
     "user_tz": -330
    },
    "id": "DJJrdGRh7P2K",
    "outputId": "a32a9377-b470-4d0b-a104-cff1cf78eeab"
   },
   "outputs": [],
   "source": [
    "import os\n",
    "\n",
    "# Path to your project folder\n",
    "project_path = \"/content/drive/MyDrive/Deepfake-GitHub\"\n",
    "\n",
    "# Walk through the folder and list all files\n",
    "for root, dirs, files in os.walk(project_path):\n",
    "    level = root.replace(project_path, '').count(os.sep)\n",
    "    indent = ' ' * 4 * level\n",
    "    print(f\"{indent}{os.path.basename(root)}/\")\n",
    "    subindent = ' ' * 4 * (level + 1)\n",
    "    for f in files:\n",
    "        print(f\"{subindent}{f}\")\n"
   ]
  },
  {
   "cell_type": "code",
   "execution_count": 3,
   "metadata": {
    "colab": {
     "base_uri": "https://localhost:8080/"
    },
    "executionInfo": {
     "elapsed": 48,
     "status": "ok",
     "timestamp": 1756843059752,
     "user": {
      "displayName": "Sunayana P Singh",
      "userId": "09211292319710131157"
     },
     "user_tz": -330
    },
    "id": "zpJGjHGNAZ7k",
    "outputId": "c3572983-01f9-4538-d0c1-2a93fb54e14a"
   },
   "outputs": [
    {
     "ename": "FileNotFoundError",
     "evalue": "[Errno 2] No such file or directory: '/content/drive/MyDrive/Deepfake-GitHub/requirements.txt'",
     "output_type": "error",
     "traceback": [
      "\u001b[31m---------------------------------------------------------------------------\u001b[39m",
      "\u001b[31mFileNotFoundError\u001b[39m                         Traceback (most recent call last)",
      "\u001b[36mCell\u001b[39m\u001b[36m \u001b[39m\u001b[32mIn[3]\u001b[39m\u001b[32m, line 16\u001b[39m\n\u001b[32m      4\u001b[39m \u001b[38;5;66;03m# Overwrite it with minimal requirements\u001b[39;00m\n\u001b[32m      5\u001b[39m req_content = \u001b[33m\"\"\"\u001b[39m\u001b[38;5;130;01m\\\u001b[39;00m\n\u001b[32m      6\u001b[39m \u001b[33mtorch>=2.0.0\u001b[39m\n\u001b[32m      7\u001b[39m \u001b[33mtorchvision>=0.15.0\u001b[39m\n\u001b[32m   (...)\u001b[39m\u001b[32m     13\u001b[39m \u001b[33mIPython\u001b[39m\n\u001b[32m     14\u001b[39m \u001b[33m\"\"\"\u001b[39m\n\u001b[32m---> \u001b[39m\u001b[32m16\u001b[39m \u001b[38;5;28;01mwith\u001b[39;00m \u001b[38;5;28;43mopen\u001b[39;49m\u001b[43m(\u001b[49m\u001b[43mreq_path\u001b[49m\u001b[43m,\u001b[49m\u001b[43m \u001b[49m\u001b[33;43m\"\u001b[39;49m\u001b[33;43mw\u001b[39;49m\u001b[33;43m\"\u001b[39;49m\u001b[43m)\u001b[49m \u001b[38;5;28;01mas\u001b[39;00m f:\n\u001b[32m     17\u001b[39m     f.write(req_content)\n\u001b[32m     19\u001b[39m \u001b[38;5;28mprint\u001b[39m(\u001b[33m\"\u001b[39m\u001b[33mrequirements.txt updated!\u001b[39m\u001b[33m\"\u001b[39m)\n",
      "\u001b[36mFile \u001b[39m\u001b[32m~/Documents/GitHub/Deepfake_trained-_model/venv/lib/python3.13/site-packages/IPython/core/interactiveshell.py:343\u001b[39m, in \u001b[36m_modified_open\u001b[39m\u001b[34m(file, *args, **kwargs)\u001b[39m\n\u001b[32m    336\u001b[39m \u001b[38;5;28;01mif\u001b[39;00m file \u001b[38;5;129;01min\u001b[39;00m {\u001b[32m0\u001b[39m, \u001b[32m1\u001b[39m, \u001b[32m2\u001b[39m}:\n\u001b[32m    337\u001b[39m     \u001b[38;5;28;01mraise\u001b[39;00m \u001b[38;5;167;01mValueError\u001b[39;00m(\n\u001b[32m    338\u001b[39m         \u001b[33mf\u001b[39m\u001b[33m\"\u001b[39m\u001b[33mIPython won\u001b[39m\u001b[33m'\u001b[39m\u001b[33mt let you open fd=\u001b[39m\u001b[38;5;132;01m{\u001b[39;00mfile\u001b[38;5;132;01m}\u001b[39;00m\u001b[33m by default \u001b[39m\u001b[33m\"\u001b[39m\n\u001b[32m    339\u001b[39m         \u001b[33m\"\u001b[39m\u001b[33mas it is likely to crash IPython. If you know what you are doing, \u001b[39m\u001b[33m\"\u001b[39m\n\u001b[32m    340\u001b[39m         \u001b[33m\"\u001b[39m\u001b[33myou can use builtins\u001b[39m\u001b[33m'\u001b[39m\u001b[33m open.\u001b[39m\u001b[33m\"\u001b[39m\n\u001b[32m    341\u001b[39m     )\n\u001b[32m--> \u001b[39m\u001b[32m343\u001b[39m \u001b[38;5;28;01mreturn\u001b[39;00m \u001b[43mio_open\u001b[49m\u001b[43m(\u001b[49m\u001b[43mfile\u001b[49m\u001b[43m,\u001b[49m\u001b[43m \u001b[49m\u001b[43m*\u001b[49m\u001b[43margs\u001b[49m\u001b[43m,\u001b[49m\u001b[43m \u001b[49m\u001b[43m*\u001b[49m\u001b[43m*\u001b[49m\u001b[43mkwargs\u001b[49m\u001b[43m)\u001b[49m\n",
      "\u001b[31mFileNotFoundError\u001b[39m: [Errno 2] No such file or directory: '/content/drive/MyDrive/Deepfake-GitHub/requirements.txt'"
     ]
    }
   ],
   "source": [
    "# Path to your existing requirements.txt\n",
    "req_path = \"/content/drive/MyDrive/Deepfake-GitHub/requirements.txt\"\n",
    "\n",
    "# Overwrite it with minimal requirements\n",
    "req_content = \"\"\"\\\n",
    "torch>=2.0.0\n",
    "torchvision>=0.15.0\n",
    "opencv-python\n",
    "numpy\n",
    "matplotlib\n",
    "Pillow\n",
    "google-colab\n",
    "IPython\n",
    "\"\"\"\n",
    "\n",
    "with open(req_path, \"w\") as f:\n",
    "    f.write(req_content)\n",
    "\n",
    "print(\"requirements.txt updated!\")\n"
   ]
  },
  {
   "cell_type": "code",
   "execution_count": 10,
   "metadata": {
    "colab": {
     "base_uri": "https://localhost:8080/"
    },
    "executionInfo": {
     "elapsed": 7450,
     "status": "ok",
     "timestamp": 1756843155807,
     "user": {
      "displayName": "Sunayana P Singh",
      "userId": "09211292319710131157"
     },
     "user_tz": -330
    },
    "id": "0y9XhOrhAvmt",
    "outputId": "f8015aa0-15f4-4532-b23c-34df3eafa550"
   },
   "outputs": [
    {
     "name": "stdout",
     "output_type": "stream",
     "text": [
      "Requirement already satisfied: torch>=2.0.0 in /usr/local/lib/python3.12/dist-packages (from -r /content/drive/MyDrive/Deepfake-GitHub/requirements.txt (line 1)) (2.8.0+cu126)\n",
      "Requirement already satisfied: torchvision>=0.15.0 in /usr/local/lib/python3.12/dist-packages (from -r /content/drive/MyDrive/Deepfake-GitHub/requirements.txt (line 2)) (0.23.0+cu126)\n",
      "Requirement already satisfied: opencv-python in /usr/local/lib/python3.12/dist-packages (from -r /content/drive/MyDrive/Deepfake-GitHub/requirements.txt (line 3)) (4.12.0.88)\n",
      "Requirement already satisfied: numpy in /usr/local/lib/python3.12/dist-packages (from -r /content/drive/MyDrive/Deepfake-GitHub/requirements.txt (line 4)) (2.0.2)\n",
      "Requirement already satisfied: matplotlib in /usr/local/lib/python3.12/dist-packages (from -r /content/drive/MyDrive/Deepfake-GitHub/requirements.txt (line 5)) (3.10.0)\n",
      "Requirement already satisfied: Pillow in /usr/local/lib/python3.12/dist-packages (from -r /content/drive/MyDrive/Deepfake-GitHub/requirements.txt (line 6)) (11.3.0)\n",
      "Requirement already satisfied: google-colab in /usr/local/lib/python3.12/dist-packages (from -r /content/drive/MyDrive/Deepfake-GitHub/requirements.txt (line 7)) (1.0.0)\n",
      "Requirement already satisfied: IPython in /usr/local/lib/python3.12/dist-packages (from -r /content/drive/MyDrive/Deepfake-GitHub/requirements.txt (line 8)) (7.34.0)\n",
      "Requirement already satisfied: filelock in /usr/local/lib/python3.12/dist-packages (from torch>=2.0.0->-r /content/drive/MyDrive/Deepfake-GitHub/requirements.txt (line 1)) (3.19.1)\n",
      "Requirement already satisfied: typing-extensions>=4.10.0 in /usr/local/lib/python3.12/dist-packages (from torch>=2.0.0->-r /content/drive/MyDrive/Deepfake-GitHub/requirements.txt (line 1)) (4.15.0)\n",
      "Requirement already satisfied: setuptools in /usr/local/lib/python3.12/dist-packages (from torch>=2.0.0->-r /content/drive/MyDrive/Deepfake-GitHub/requirements.txt (line 1)) (75.2.0)\n",
      "Requirement already satisfied: sympy>=1.13.3 in /usr/local/lib/python3.12/dist-packages (from torch>=2.0.0->-r /content/drive/MyDrive/Deepfake-GitHub/requirements.txt (line 1)) (1.13.3)\n",
      "Requirement already satisfied: networkx in /usr/local/lib/python3.12/dist-packages (from torch>=2.0.0->-r /content/drive/MyDrive/Deepfake-GitHub/requirements.txt (line 1)) (3.5)\n",
      "Requirement already satisfied: jinja2 in /usr/local/lib/python3.12/dist-packages (from torch>=2.0.0->-r /content/drive/MyDrive/Deepfake-GitHub/requirements.txt (line 1)) (3.1.6)\n",
      "Requirement already satisfied: fsspec in /usr/local/lib/python3.12/dist-packages (from torch>=2.0.0->-r /content/drive/MyDrive/Deepfake-GitHub/requirements.txt (line 1)) (2025.3.0)\n",
      "Requirement already satisfied: nvidia-cuda-nvrtc-cu12==12.6.77 in /usr/local/lib/python3.12/dist-packages (from torch>=2.0.0->-r /content/drive/MyDrive/Deepfake-GitHub/requirements.txt (line 1)) (12.6.77)\n",
      "Requirement already satisfied: nvidia-cuda-runtime-cu12==12.6.77 in /usr/local/lib/python3.12/dist-packages (from torch>=2.0.0->-r /content/drive/MyDrive/Deepfake-GitHub/requirements.txt (line 1)) (12.6.77)\n",
      "Requirement already satisfied: nvidia-cuda-cupti-cu12==12.6.80 in /usr/local/lib/python3.12/dist-packages (from torch>=2.0.0->-r /content/drive/MyDrive/Deepfake-GitHub/requirements.txt (line 1)) (12.6.80)\n",
      "Requirement already satisfied: nvidia-cudnn-cu12==9.10.2.21 in /usr/local/lib/python3.12/dist-packages (from torch>=2.0.0->-r /content/drive/MyDrive/Deepfake-GitHub/requirements.txt (line 1)) (9.10.2.21)\n",
      "Requirement already satisfied: nvidia-cublas-cu12==12.6.4.1 in /usr/local/lib/python3.12/dist-packages (from torch>=2.0.0->-r /content/drive/MyDrive/Deepfake-GitHub/requirements.txt (line 1)) (12.6.4.1)\n",
      "Requirement already satisfied: nvidia-cufft-cu12==11.3.0.4 in /usr/local/lib/python3.12/dist-packages (from torch>=2.0.0->-r /content/drive/MyDrive/Deepfake-GitHub/requirements.txt (line 1)) (11.3.0.4)\n",
      "Requirement already satisfied: nvidia-curand-cu12==10.3.7.77 in /usr/local/lib/python3.12/dist-packages (from torch>=2.0.0->-r /content/drive/MyDrive/Deepfake-GitHub/requirements.txt (line 1)) (10.3.7.77)\n",
      "Requirement already satisfied: nvidia-cusolver-cu12==11.7.1.2 in /usr/local/lib/python3.12/dist-packages (from torch>=2.0.0->-r /content/drive/MyDrive/Deepfake-GitHub/requirements.txt (line 1)) (11.7.1.2)\n",
      "Requirement already satisfied: nvidia-cusparse-cu12==12.5.4.2 in /usr/local/lib/python3.12/dist-packages (from torch>=2.0.0->-r /content/drive/MyDrive/Deepfake-GitHub/requirements.txt (line 1)) (12.5.4.2)\n",
      "Requirement already satisfied: nvidia-cusparselt-cu12==0.7.1 in /usr/local/lib/python3.12/dist-packages (from torch>=2.0.0->-r /content/drive/MyDrive/Deepfake-GitHub/requirements.txt (line 1)) (0.7.1)\n",
      "Requirement already satisfied: nvidia-nccl-cu12==2.27.3 in /usr/local/lib/python3.12/dist-packages (from torch>=2.0.0->-r /content/drive/MyDrive/Deepfake-GitHub/requirements.txt (line 1)) (2.27.3)\n",
      "Requirement already satisfied: nvidia-nvtx-cu12==12.6.77 in /usr/local/lib/python3.12/dist-packages (from torch>=2.0.0->-r /content/drive/MyDrive/Deepfake-GitHub/requirements.txt (line 1)) (12.6.77)\n",
      "Requirement already satisfied: nvidia-nvjitlink-cu12==12.6.85 in /usr/local/lib/python3.12/dist-packages (from torch>=2.0.0->-r /content/drive/MyDrive/Deepfake-GitHub/requirements.txt (line 1)) (12.6.85)\n",
      "Requirement already satisfied: nvidia-cufile-cu12==1.11.1.6 in /usr/local/lib/python3.12/dist-packages (from torch>=2.0.0->-r /content/drive/MyDrive/Deepfake-GitHub/requirements.txt (line 1)) (1.11.1.6)\n",
      "Requirement already satisfied: triton==3.4.0 in /usr/local/lib/python3.12/dist-packages (from torch>=2.0.0->-r /content/drive/MyDrive/Deepfake-GitHub/requirements.txt (line 1)) (3.4.0)\n",
      "Requirement already satisfied: contourpy>=1.0.1 in /usr/local/lib/python3.12/dist-packages (from matplotlib->-r /content/drive/MyDrive/Deepfake-GitHub/requirements.txt (line 5)) (1.3.3)\n",
      "Requirement already satisfied: cycler>=0.10 in /usr/local/lib/python3.12/dist-packages (from matplotlib->-r /content/drive/MyDrive/Deepfake-GitHub/requirements.txt (line 5)) (0.12.1)\n",
      "Requirement already satisfied: fonttools>=4.22.0 in /usr/local/lib/python3.12/dist-packages (from matplotlib->-r /content/drive/MyDrive/Deepfake-GitHub/requirements.txt (line 5)) (4.59.1)\n",
      "Requirement already satisfied: kiwisolver>=1.3.1 in /usr/local/lib/python3.12/dist-packages (from matplotlib->-r /content/drive/MyDrive/Deepfake-GitHub/requirements.txt (line 5)) (1.4.9)\n",
      "Requirement already satisfied: packaging>=20.0 in /usr/local/lib/python3.12/dist-packages (from matplotlib->-r /content/drive/MyDrive/Deepfake-GitHub/requirements.txt (line 5)) (25.0)\n",
      "Requirement already satisfied: pyparsing>=2.3.1 in /usr/local/lib/python3.12/dist-packages (from matplotlib->-r /content/drive/MyDrive/Deepfake-GitHub/requirements.txt (line 5)) (3.2.3)\n",
      "Requirement already satisfied: python-dateutil>=2.7 in /usr/local/lib/python3.12/dist-packages (from matplotlib->-r /content/drive/MyDrive/Deepfake-GitHub/requirements.txt (line 5)) (2.9.0.post0)\n",
      "Requirement already satisfied: google-auth==2.38.0 in /usr/local/lib/python3.12/dist-packages (from google-colab->-r /content/drive/MyDrive/Deepfake-GitHub/requirements.txt (line 7)) (2.38.0)\n",
      "Requirement already satisfied: ipykernel==6.17.1 in /usr/local/lib/python3.12/dist-packages (from google-colab->-r /content/drive/MyDrive/Deepfake-GitHub/requirements.txt (line 7)) (6.17.1)\n",
      "Requirement already satisfied: ipyparallel==8.8.0 in /usr/local/lib/python3.12/dist-packages (from google-colab->-r /content/drive/MyDrive/Deepfake-GitHub/requirements.txt (line 7)) (8.8.0)\n",
      "Requirement already satisfied: pandas==2.2.2 in /usr/local/lib/python3.12/dist-packages (from google-colab->-r /content/drive/MyDrive/Deepfake-GitHub/requirements.txt (line 7)) (2.2.2)\n",
      "Requirement already satisfied: jupyter-server==1.16.0 in /usr/local/lib/python3.12/dist-packages (from google-colab->-r /content/drive/MyDrive/Deepfake-GitHub/requirements.txt (line 7)) (1.16.0)\n",
      "Requirement already satisfied: portpicker==1.5.2 in /usr/local/lib/python3.12/dist-packages (from google-colab->-r /content/drive/MyDrive/Deepfake-GitHub/requirements.txt (line 7)) (1.5.2)\n",
      "Requirement already satisfied: requests==2.32.4 in /usr/local/lib/python3.12/dist-packages (from google-colab->-r /content/drive/MyDrive/Deepfake-GitHub/requirements.txt (line 7)) (2.32.4)\n",
      "Requirement already satisfied: tornado==6.4.2 in /usr/local/lib/python3.12/dist-packages (from google-colab->-r /content/drive/MyDrive/Deepfake-GitHub/requirements.txt (line 7)) (6.4.2)\n",
      "Collecting jedi>=0.16 (from IPython->-r /content/drive/MyDrive/Deepfake-GitHub/requirements.txt (line 8))\n",
      "  Downloading jedi-0.19.2-py2.py3-none-any.whl.metadata (22 kB)\n",
      "Requirement already satisfied: decorator in /usr/local/lib/python3.12/dist-packages (from IPython->-r /content/drive/MyDrive/Deepfake-GitHub/requirements.txt (line 8)) (4.4.2)\n",
      "Requirement already satisfied: pickleshare in /usr/local/lib/python3.12/dist-packages (from IPython->-r /content/drive/MyDrive/Deepfake-GitHub/requirements.txt (line 8)) (0.7.5)\n",
      "Requirement already satisfied: traitlets>=4.2 in /usr/local/lib/python3.12/dist-packages (from IPython->-r /content/drive/MyDrive/Deepfake-GitHub/requirements.txt (line 8)) (5.7.1)\n",
      "Requirement already satisfied: prompt-toolkit!=3.0.0,!=3.0.1,<3.1.0,>=2.0.0 in /usr/local/lib/python3.12/dist-packages (from IPython->-r /content/drive/MyDrive/Deepfake-GitHub/requirements.txt (line 8)) (3.0.51)\n",
      "Requirement already satisfied: pygments in /usr/local/lib/python3.12/dist-packages (from IPython->-r /content/drive/MyDrive/Deepfake-GitHub/requirements.txt (line 8)) (2.19.2)\n",
      "Requirement already satisfied: backcall in /usr/local/lib/python3.12/dist-packages (from IPython->-r /content/drive/MyDrive/Deepfake-GitHub/requirements.txt (line 8)) (0.2.0)\n",
      "Requirement already satisfied: matplotlib-inline in /usr/local/lib/python3.12/dist-packages (from IPython->-r /content/drive/MyDrive/Deepfake-GitHub/requirements.txt (line 8)) (0.1.7)\n",
      "Requirement already satisfied: pexpect>4.3 in /usr/local/lib/python3.12/dist-packages (from IPython->-r /content/drive/MyDrive/Deepfake-GitHub/requirements.txt (line 8)) (4.9.0)\n",
      "Requirement already satisfied: cachetools<6.0,>=2.0.0 in /usr/local/lib/python3.12/dist-packages (from google-auth==2.38.0->google-colab->-r /content/drive/MyDrive/Deepfake-GitHub/requirements.txt (line 7)) (5.5.2)\n",
      "Requirement already satisfied: pyasn1-modules>=0.2.1 in /usr/local/lib/python3.12/dist-packages (from google-auth==2.38.0->google-colab->-r /content/drive/MyDrive/Deepfake-GitHub/requirements.txt (line 7)) (0.4.2)\n",
      "Requirement already satisfied: rsa<5,>=3.1.4 in /usr/local/lib/python3.12/dist-packages (from google-auth==2.38.0->google-colab->-r /content/drive/MyDrive/Deepfake-GitHub/requirements.txt (line 7)) (4.9.1)\n",
      "Requirement already satisfied: debugpy>=1.0 in /usr/local/lib/python3.12/dist-packages (from ipykernel==6.17.1->google-colab->-r /content/drive/MyDrive/Deepfake-GitHub/requirements.txt (line 7)) (1.8.15)\n",
      "Requirement already satisfied: jupyter-client>=6.1.12 in /usr/local/lib/python3.12/dist-packages (from ipykernel==6.17.1->google-colab->-r /content/drive/MyDrive/Deepfake-GitHub/requirements.txt (line 7)) (6.1.12)\n",
      "Requirement already satisfied: nest-asyncio in /usr/local/lib/python3.12/dist-packages (from ipykernel==6.17.1->google-colab->-r /content/drive/MyDrive/Deepfake-GitHub/requirements.txt (line 7)) (1.6.0)\n",
      "Requirement already satisfied: psutil in /usr/local/lib/python3.12/dist-packages (from ipykernel==6.17.1->google-colab->-r /content/drive/MyDrive/Deepfake-GitHub/requirements.txt (line 7)) (5.9.5)\n",
      "Requirement already satisfied: pyzmq>=17 in /usr/local/lib/python3.12/dist-packages (from ipykernel==6.17.1->google-colab->-r /content/drive/MyDrive/Deepfake-GitHub/requirements.txt (line 7)) (26.2.1)\n",
      "Requirement already satisfied: entrypoints in /usr/local/lib/python3.12/dist-packages (from ipyparallel==8.8.0->google-colab->-r /content/drive/MyDrive/Deepfake-GitHub/requirements.txt (line 7)) (0.4)\n",
      "Requirement already satisfied: tqdm in /usr/local/lib/python3.12/dist-packages (from ipyparallel==8.8.0->google-colab->-r /content/drive/MyDrive/Deepfake-GitHub/requirements.txt (line 7)) (4.67.1)\n",
      "Requirement already satisfied: argon2-cffi in /usr/local/lib/python3.12/dist-packages (from jupyter-server==1.16.0->google-colab->-r /content/drive/MyDrive/Deepfake-GitHub/requirements.txt (line 7)) (25.1.0)\n",
      "Requirement already satisfied: jupyter-core>=4.7.0 in /usr/local/lib/python3.12/dist-packages (from jupyter-server==1.16.0->google-colab->-r /content/drive/MyDrive/Deepfake-GitHub/requirements.txt (line 7)) (5.8.1)\n",
      "Requirement already satisfied: nbformat>=5.2.0 in /usr/local/lib/python3.12/dist-packages (from jupyter-server==1.16.0->google-colab->-r /content/drive/MyDrive/Deepfake-GitHub/requirements.txt (line 7)) (5.10.4)\n",
      "Requirement already satisfied: nbconvert>=6.4.4 in /usr/local/lib/python3.12/dist-packages (from jupyter-server==1.16.0->google-colab->-r /content/drive/MyDrive/Deepfake-GitHub/requirements.txt (line 7)) (7.16.6)\n",
      "Requirement already satisfied: Send2Trash in /usr/local/lib/python3.12/dist-packages (from jupyter-server==1.16.0->google-colab->-r /content/drive/MyDrive/Deepfake-GitHub/requirements.txt (line 7)) (1.8.3)\n",
      "Requirement already satisfied: terminado>=0.8.3 in /usr/local/lib/python3.12/dist-packages (from jupyter-server==1.16.0->google-colab->-r /content/drive/MyDrive/Deepfake-GitHub/requirements.txt (line 7)) (0.18.1)\n",
      "Requirement already satisfied: prometheus-client in /usr/local/lib/python3.12/dist-packages (from jupyter-server==1.16.0->google-colab->-r /content/drive/MyDrive/Deepfake-GitHub/requirements.txt (line 7)) (0.22.1)\n",
      "Requirement already satisfied: anyio>=3.1.0 in /usr/local/lib/python3.12/dist-packages (from jupyter-server==1.16.0->google-colab->-r /content/drive/MyDrive/Deepfake-GitHub/requirements.txt (line 7)) (4.10.0)\n",
      "Requirement already satisfied: websocket-client in /usr/local/lib/python3.12/dist-packages (from jupyter-server==1.16.0->google-colab->-r /content/drive/MyDrive/Deepfake-GitHub/requirements.txt (line 7)) (1.8.0)\n",
      "Requirement already satisfied: pytz>=2020.1 in /usr/local/lib/python3.12/dist-packages (from pandas==2.2.2->google-colab->-r /content/drive/MyDrive/Deepfake-GitHub/requirements.txt (line 7)) (2025.2)\n",
      "Requirement already satisfied: tzdata>=2022.7 in /usr/local/lib/python3.12/dist-packages (from pandas==2.2.2->google-colab->-r /content/drive/MyDrive/Deepfake-GitHub/requirements.txt (line 7)) (2025.2)\n",
      "Requirement already satisfied: charset_normalizer<4,>=2 in /usr/local/lib/python3.12/dist-packages (from requests==2.32.4->google-colab->-r /content/drive/MyDrive/Deepfake-GitHub/requirements.txt (line 7)) (3.4.3)\n",
      "Requirement already satisfied: idna<4,>=2.5 in /usr/local/lib/python3.12/dist-packages (from requests==2.32.4->google-colab->-r /content/drive/MyDrive/Deepfake-GitHub/requirements.txt (line 7)) (3.10)\n",
      "Requirement already satisfied: urllib3<3,>=1.21.1 in /usr/local/lib/python3.12/dist-packages (from requests==2.32.4->google-colab->-r /content/drive/MyDrive/Deepfake-GitHub/requirements.txt (line 7)) (2.5.0)\n",
      "Requirement already satisfied: certifi>=2017.4.17 in /usr/local/lib/python3.12/dist-packages (from requests==2.32.4->google-colab->-r /content/drive/MyDrive/Deepfake-GitHub/requirements.txt (line 7)) (2025.8.3)\n",
      "Requirement already satisfied: parso<0.9.0,>=0.8.4 in /usr/local/lib/python3.12/dist-packages (from jedi>=0.16->IPython->-r /content/drive/MyDrive/Deepfake-GitHub/requirements.txt (line 8)) (0.8.5)\n",
      "Requirement already satisfied: ptyprocess>=0.5 in /usr/local/lib/python3.12/dist-packages (from pexpect>4.3->IPython->-r /content/drive/MyDrive/Deepfake-GitHub/requirements.txt (line 8)) (0.7.0)\n",
      "Requirement already satisfied: wcwidth in /usr/local/lib/python3.12/dist-packages (from prompt-toolkit!=3.0.0,!=3.0.1,<3.1.0,>=2.0.0->IPython->-r /content/drive/MyDrive/Deepfake-GitHub/requirements.txt (line 8)) (0.2.13)\n",
      "Requirement already satisfied: six>=1.5 in /usr/local/lib/python3.12/dist-packages (from python-dateutil>=2.7->matplotlib->-r /content/drive/MyDrive/Deepfake-GitHub/requirements.txt (line 5)) (1.17.0)\n",
      "Requirement already satisfied: mpmath<1.4,>=1.1.0 in /usr/local/lib/python3.12/dist-packages (from sympy>=1.13.3->torch>=2.0.0->-r /content/drive/MyDrive/Deepfake-GitHub/requirements.txt (line 1)) (1.3.0)\n",
      "Requirement already satisfied: MarkupSafe>=2.0 in /usr/local/lib/python3.12/dist-packages (from jinja2->torch>=2.0.0->-r /content/drive/MyDrive/Deepfake-GitHub/requirements.txt (line 1)) (3.0.2)\n",
      "Requirement already satisfied: sniffio>=1.1 in /usr/local/lib/python3.12/dist-packages (from anyio>=3.1.0->jupyter-server==1.16.0->google-colab->-r /content/drive/MyDrive/Deepfake-GitHub/requirements.txt (line 7)) (1.3.1)\n",
      "Requirement already satisfied: platformdirs>=2.5 in /usr/local/lib/python3.12/dist-packages (from jupyter-core>=4.7.0->jupyter-server==1.16.0->google-colab->-r /content/drive/MyDrive/Deepfake-GitHub/requirements.txt (line 7)) (4.3.8)\n",
      "Requirement already satisfied: beautifulsoup4 in /usr/local/lib/python3.12/dist-packages (from nbconvert>=6.4.4->jupyter-server==1.16.0->google-colab->-r /content/drive/MyDrive/Deepfake-GitHub/requirements.txt (line 7)) (4.13.5)\n",
      "Requirement already satisfied: bleach!=5.0.0 in /usr/local/lib/python3.12/dist-packages (from bleach[css]!=5.0.0->nbconvert>=6.4.4->jupyter-server==1.16.0->google-colab->-r /content/drive/MyDrive/Deepfake-GitHub/requirements.txt (line 7)) (6.2.0)\n",
      "Requirement already satisfied: defusedxml in /usr/local/lib/python3.12/dist-packages (from nbconvert>=6.4.4->jupyter-server==1.16.0->google-colab->-r /content/drive/MyDrive/Deepfake-GitHub/requirements.txt (line 7)) (0.7.1)\n",
      "Requirement already satisfied: jupyterlab-pygments in /usr/local/lib/python3.12/dist-packages (from nbconvert>=6.4.4->jupyter-server==1.16.0->google-colab->-r /content/drive/MyDrive/Deepfake-GitHub/requirements.txt (line 7)) (0.3.0)\n",
      "Requirement already satisfied: mistune<4,>=2.0.3 in /usr/local/lib/python3.12/dist-packages (from nbconvert>=6.4.4->jupyter-server==1.16.0->google-colab->-r /content/drive/MyDrive/Deepfake-GitHub/requirements.txt (line 7)) (3.1.3)\n",
      "Requirement already satisfied: nbclient>=0.5.0 in /usr/local/lib/python3.12/dist-packages (from nbconvert>=6.4.4->jupyter-server==1.16.0->google-colab->-r /content/drive/MyDrive/Deepfake-GitHub/requirements.txt (line 7)) (0.10.2)\n",
      "Requirement already satisfied: pandocfilters>=1.4.1 in /usr/local/lib/python3.12/dist-packages (from nbconvert>=6.4.4->jupyter-server==1.16.0->google-colab->-r /content/drive/MyDrive/Deepfake-GitHub/requirements.txt (line 7)) (1.5.1)\n",
      "Requirement already satisfied: fastjsonschema>=2.15 in /usr/local/lib/python3.12/dist-packages (from nbformat>=5.2.0->jupyter-server==1.16.0->google-colab->-r /content/drive/MyDrive/Deepfake-GitHub/requirements.txt (line 7)) (2.21.2)\n",
      "Requirement already satisfied: jsonschema>=2.6 in /usr/local/lib/python3.12/dist-packages (from nbformat>=5.2.0->jupyter-server==1.16.0->google-colab->-r /content/drive/MyDrive/Deepfake-GitHub/requirements.txt (line 7)) (4.25.1)\n",
      "Requirement already satisfied: pyasn1<0.7.0,>=0.6.1 in /usr/local/lib/python3.12/dist-packages (from pyasn1-modules>=0.2.1->google-auth==2.38.0->google-colab->-r /content/drive/MyDrive/Deepfake-GitHub/requirements.txt (line 7)) (0.6.1)\n",
      "Requirement already satisfied: argon2-cffi-bindings in /usr/local/lib/python3.12/dist-packages (from argon2-cffi->jupyter-server==1.16.0->google-colab->-r /content/drive/MyDrive/Deepfake-GitHub/requirements.txt (line 7)) (25.1.0)\n",
      "Requirement already satisfied: webencodings in /usr/local/lib/python3.12/dist-packages (from bleach!=5.0.0->bleach[css]!=5.0.0->nbconvert>=6.4.4->jupyter-server==1.16.0->google-colab->-r /content/drive/MyDrive/Deepfake-GitHub/requirements.txt (line 7)) (0.5.1)\n",
      "Requirement already satisfied: tinycss2<1.5,>=1.1.0 in /usr/local/lib/python3.12/dist-packages (from bleach[css]!=5.0.0->nbconvert>=6.4.4->jupyter-server==1.16.0->google-colab->-r /content/drive/MyDrive/Deepfake-GitHub/requirements.txt (line 7)) (1.4.0)\n",
      "Requirement already satisfied: attrs>=22.2.0 in /usr/local/lib/python3.12/dist-packages (from jsonschema>=2.6->nbformat>=5.2.0->jupyter-server==1.16.0->google-colab->-r /content/drive/MyDrive/Deepfake-GitHub/requirements.txt (line 7)) (25.3.0)\n",
      "Requirement already satisfied: jsonschema-specifications>=2023.03.6 in /usr/local/lib/python3.12/dist-packages (from jsonschema>=2.6->nbformat>=5.2.0->jupyter-server==1.16.0->google-colab->-r /content/drive/MyDrive/Deepfake-GitHub/requirements.txt (line 7)) (2025.4.1)\n",
      "Requirement already satisfied: referencing>=0.28.4 in /usr/local/lib/python3.12/dist-packages (from jsonschema>=2.6->nbformat>=5.2.0->jupyter-server==1.16.0->google-colab->-r /content/drive/MyDrive/Deepfake-GitHub/requirements.txt (line 7)) (0.36.2)\n",
      "Requirement already satisfied: rpds-py>=0.7.1 in /usr/local/lib/python3.12/dist-packages (from jsonschema>=2.6->nbformat>=5.2.0->jupyter-server==1.16.0->google-colab->-r /content/drive/MyDrive/Deepfake-GitHub/requirements.txt (line 7)) (0.27.0)\n",
      "Requirement already satisfied: cffi>=1.0.1 in /usr/local/lib/python3.12/dist-packages (from argon2-cffi-bindings->argon2-cffi->jupyter-server==1.16.0->google-colab->-r /content/drive/MyDrive/Deepfake-GitHub/requirements.txt (line 7)) (1.17.1)\n",
      "Requirement already satisfied: soupsieve>1.2 in /usr/local/lib/python3.12/dist-packages (from beautifulsoup4->nbconvert>=6.4.4->jupyter-server==1.16.0->google-colab->-r /content/drive/MyDrive/Deepfake-GitHub/requirements.txt (line 7)) (2.7)\n",
      "Requirement already satisfied: pycparser in /usr/local/lib/python3.12/dist-packages (from cffi>=1.0.1->argon2-cffi-bindings->argon2-cffi->jupyter-server==1.16.0->google-colab->-r /content/drive/MyDrive/Deepfake-GitHub/requirements.txt (line 7)) (2.22)\n",
      "Downloading jedi-0.19.2-py2.py3-none-any.whl (1.6 MB)\n",
      "\u001b[2K   \u001b[90m━━━━━━━━━━━━━━━━━━━━━━━━━━━━━━━━━━━━━━━━\u001b[0m \u001b[32m1.6/1.6 MB\u001b[0m \u001b[31m19.1 MB/s\u001b[0m eta \u001b[36m0:00:00\u001b[0m\n",
      "\u001b[?25hInstalling collected packages: jedi\n",
      "Successfully installed jedi-0.19.2\n"
     ]
    }
   ],
   "source": [
    "!pip install -r /content/drive/MyDrive/Deepfake-GitHub/requirements.txt\n"
   ]
  },
  {
   "cell_type": "code",
   "execution_count": 4,
   "metadata": {
    "colab": {
     "base_uri": "https://localhost:8080/",
     "height": 1000,
     "output_embedded_package_id": "1Haj8XGYyqyMGGWMFLsKMhuT5nipjADwu"
    },
    "executionInfo": {
     "elapsed": 118652,
     "status": "ok",
     "timestamp": 1756843582216,
     "user": {
      "displayName": "Sunayana P Singh",
      "userId": "09211292319710131157"
     },
     "user_tz": -330
    },
    "id": "__9ZZ6fWBWJv",
    "outputId": "56b26125-4278-47fd-b0ec-c7b8a899641a"
   },
   "outputs": [
    {
     "ename": "ModuleNotFoundError",
     "evalue": "No module named 'google.colab'",
     "output_type": "error",
     "traceback": [
      "\u001b[0;31m---------------------------------------------------------------------------\u001b[0m",
      "\u001b[0;31mModuleNotFoundError\u001b[0m                       Traceback (most recent call last)",
      "Cell \u001b[0;32mIn[4], line 7\u001b[0m\n\u001b[1;32m      5\u001b[0m \u001b[38;5;28;01mfrom\u001b[39;00m \u001b[38;5;21;01mPIL\u001b[39;00m \u001b[38;5;28;01mimport\u001b[39;00m Image\n\u001b[1;32m      6\u001b[0m \u001b[38;5;28;01mimport\u001b[39;00m \u001b[38;5;21;01mcv2\u001b[39;00m\n\u001b[0;32m----> 7\u001b[0m \u001b[38;5;28;01mfrom\u001b[39;00m \u001b[38;5;21;01mgoogle\u001b[39;00m\u001b[38;5;21;01m.\u001b[39;00m\u001b[38;5;21;01mcolab\u001b[39;00m\u001b[38;5;21;01m.\u001b[39;00m\u001b[38;5;21;01mpatches\u001b[39;00m \u001b[38;5;28;01mimport\u001b[39;00m cv2_imshow\n\u001b[1;32m      8\u001b[0m \u001b[38;5;28;01mfrom\u001b[39;00m \u001b[38;5;21;01mgoogle\u001b[39;00m\u001b[38;5;21;01m.\u001b[39;00m\u001b[38;5;21;01mcolab\u001b[39;00m \u001b[38;5;28;01mimport\u001b[39;00m files\n\u001b[1;32m      9\u001b[0m \u001b[38;5;28;01mimport\u001b[39;00m \u001b[38;5;21;01mnumpy\u001b[39;00m \u001b[38;5;28;01mas\u001b[39;00m \u001b[38;5;21;01mnp\u001b[39;00m\n",
      "\u001b[0;31mModuleNotFoundError\u001b[0m: No module named 'google.colab'"
     ]
    }
   ],
   "source": [
    "\n",
    "\n",
    "# ======== 2. Import required libraries ========\n",
    "import torch\n",
    "import torchvision.models\n",
    "from torchvision import transforms\n",
    "from PIL import Image\n",
    "import cv2\n",
    "from google.colab.patches import cv2_imshow\n",
    "from google.colab import files\n",
    "import numpy as np\n",
    "\n",
    "# ======== 3. Upload the video ========\n",
    "print(\"Upload a video file:\")\n",
    "uploaded = files.upload()\n",
    "video_path = list(uploaded.keys())[0]\n",
    "print(\"Uploaded video:\", video_path)\n",
    "\n",
    "# ======== 4. Load trained model safely ========\n",
    "# Allow MobileNetV2 class (used in your checkpoint)\n",
    "torch.serialization.add_safe_globals([torchvision.models.mobilenetv2.MobileNetV2])\n",
    "\n",
    "# Select your model file from Drive\n",
    "model_files = [\n",
    "    \"Copy of deepfake_hybrid_model_full.pth\",\n",
    "    \"Copy of deepfake_hybrid_epoch7.pth\",\n",
    "    \"Copy of deepfake_hybrid_model.pth\",\n",
    "    \"Copy of deepfake_model.pth\"\n",
    "]\n",
    "\n",
    "print(\"\\nAvailable model files:\")\n",
    "for i, f in enumerate(model_files, 1):\n",
    "    print(f\"{i}. {f}\")\n",
    "\n",
    "choice = int(input(\"Select a model to load (1-4): \"))\n",
    "model_path = f\"/content/drive/MyDrive/Deepfake-GitHub/{model_files[choice-1]}\"\n",
    "\n",
    "# Load the model\n",
    "model = torch.load(model_path, map_location='cpu', weights_only=False)\n",
    "model.eval()\n",
    "print(f\"✅ Model '{model_files[choice-1]}' loaded successfully!\")\n",
    "\n",
    "# ======== 5. Define preprocessing ========\n",
    "preprocess = transforms.Compose([\n",
    "    transforms.Resize((224, 224)),\n",
    "    transforms.ToTensor(),\n",
    "    transforms.Normalize(mean=[0.485, 0.456, 0.406],\n",
    "                         std=[0.229, 0.224, 0.225])\n",
    "])\n",
    "\n",
    "# ======== 6. Open video and predict ========\n",
    "cap = cv2.VideoCapture(video_path)\n",
    "frame_count = 0\n",
    "predictions = []\n",
    "displayed_frames = 0\n",
    "\n",
    "while True:\n",
    "    ret, frame = cap.read()\n",
    "    if not ret:\n",
    "        break\n",
    "\n",
    "    frame_count += 1\n",
    "    if frame_count % 10 != 0:  # Skip some frames to speed up\n",
    "        continue\n",
    "\n",
    "    # Preprocess frame\n",
    "    frame_rgb = cv2.cvtColor(frame, cv2.COLOR_BGR2RGB)\n",
    "    pil_image = Image.fromarray(frame_rgb)\n",
    "    input_tensor = preprocess(pil_image).unsqueeze(0)\n",
    "\n",
    "    # Predict\n",
    "    with torch.no_grad():\n",
    "        output = model(input_tensor)\n",
    "        pred = torch.argmax(output, dim=1).item()\n",
    "        predictions.append(pred)\n",
    "\n",
    "    # Display first 5 frames with smaller size\n",
    "    if displayed_frames < 5:\n",
    "        label = \"FAKE\" if pred == 1 else \"REAL\"\n",
    "        color = (0, 0, 255) if pred == 1 else (0, 255, 0)\n",
    "\n",
    "        height, width = frame.shape[:2]\n",
    "        new_width = 480\n",
    "        new_height = int(height * (new_width / width))\n",
    "        frame_small = cv2.resize(frame, (new_width, new_height))\n",
    "\n",
    "        frame_disp = cv2.putText(frame_small, f\"{label}\", (20, 50),\n",
    "                                 cv2.FONT_HERSHEY_SIMPLEX, 1.2, color, 2)\n",
    "        cv2_imshow(frame_disp)\n",
    "        displayed_frames += 1\n",
    "\n",
    "cap.release()\n",
    "\n",
    "# ======== 7. Final video-level prediction ========\n",
    "fake_count = sum(predictions)\n",
    "total_count = len(predictions)\n",
    "print(f\"\\nFrames analyzed: {total_count}\")\n",
    "print(f\"Fake frames detected: {fake_count}\")\n",
    "\n",
    "if fake_count / total_count > 0.5:\n",
    "    print(\"🚨 Video is likely FAKE\")\n",
    "else:\n",
    "    print(\"✅ Video is likely REAL\")\n"
   ]
  },
  {
   "cell_type": "code",
   "execution_count": null,
   "metadata": {
    "colab": {
     "base_uri": "https://localhost:8080/"
    },
    "executionInfo": {
     "elapsed": 1630,
     "status": "ok",
     "timestamp": 1756843756555,
     "user": {
      "displayName": "Sunayana P Singh",
      "userId": "09211292319710131157"
     },
     "user_tz": -330
    },
    "id": "XXm-V_stCc8L",
    "outputId": "9ac20e0f-a6a4-4b8f-d70e-40d600e6aef2"
   },
   "outputs": [
    {
     "ename": "NameError",
     "evalue": "name 'drive' is not defined",
     "output_type": "error",
     "traceback": [
      "\u001b[0;31m---------------------------------------------------------------------------\u001b[0m",
      "\u001b[0;31mNameError\u001b[0m                                 Traceback (most recent call last)",
      "Cell \u001b[0;32mIn[2], line 3\u001b[0m\n\u001b[1;32m      1\u001b[0m \u001b[38;5;66;03m# Mount Google Drive (if needed)\u001b[39;00m\n\u001b[1;32m      2\u001b[0m \u001b[38;5;66;03m# from google.colab import drive\u001b[39;00m\n\u001b[0;32m----> 3\u001b[0m drive\u001b[38;5;241m.\u001b[39mmount(\u001b[38;5;124m'\u001b[39m\u001b[38;5;124m/content/drive\u001b[39m\u001b[38;5;124m'\u001b[39m)\n\u001b[1;32m      5\u001b[0m \u001b[38;5;66;03m# Navigate to your repo folder\u001b[39;00m\n\u001b[1;32m      6\u001b[0m get_ipython()\u001b[38;5;241m.\u001b[39mrun_line_magic(\u001b[38;5;124m'\u001b[39m\u001b[38;5;124mcd\u001b[39m\u001b[38;5;124m'\u001b[39m, \u001b[38;5;124m'\u001b[39m\u001b[38;5;124m/content/drive/MyDrive/Deepfake-GitHub\u001b[39m\u001b[38;5;124m'\u001b[39m)\n",
      "\u001b[0;31mNameError\u001b[0m: name 'drive' is not defined"
     ]
    }
   ],
   "source": [
    "# Mount Google Drive (if needed)\n",
    "# from google.colab import drive\n",
    "# drive.mount('/content/drive')\n",
    "\n",
    "# Navigate to your repo folder\n",
    "%cd /content/drive/MyDrive/Deepfake-GitHub\n"
   ]
  }
 ],
 "metadata": {
  "colab": {
   "authorship_tag": "ABX9TyMkBbAADH8i5AtCxXLkj07O",
   "provenance": []
  },
  "kernelspec": {
   "display_name": "venv",
   "language": "python",
   "name": "python3"
  },
  "language_info": {
   "codemirror_mode": {
    "name": "ipython",
    "version": 3
   },
   "file_extension": ".py",
   "mimetype": "text/x-python",
   "name": "python",
   "nbconvert_exporter": "python",
   "pygments_lexer": "ipython3",
   "version": "3.13.5"
  }
 },
 "nbformat": 4,
 "nbformat_minor": 0
}
